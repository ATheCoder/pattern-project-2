{
 "cells": [
  {
   "cell_type": "markdown",
   "metadata": {},
   "source": [
    "#### Import Libraries"
   ]
  },
  {
   "cell_type": "code",
   "execution_count": 1,
   "metadata": {},
   "outputs": [],
   "source": [
    "import pandas as pd\n",
    "from sklearn.ensemble import AdaBoostClassifier\n",
    "from sklearn.model_selection import KFold\n",
    "\n"
   ]
  },
  {
   "cell_type": "markdown",
   "metadata": {},
   "source": [
    "### Question 1"
   ]
  },
  {
   "cell_type": "code",
   "execution_count": 2,
   "metadata": {},
   "outputs": [
    {
     "data": {
      "text/html": [
       "<div>\n",
       "<style scoped>\n",
       "    .dataframe tbody tr th:only-of-type {\n",
       "        vertical-align: middle;\n",
       "    }\n",
       "\n",
       "    .dataframe tbody tr th {\n",
       "        vertical-align: top;\n",
       "    }\n",
       "\n",
       "    .dataframe thead th {\n",
       "        text-align: right;\n",
       "    }\n",
       "</style>\n",
       "<table border=\"1\" class=\"dataframe\">\n",
       "  <thead>\n",
       "    <tr style=\"text-align: right;\">\n",
       "      <th></th>\n",
       "      <th>Number</th>\n",
       "      <th>seizure_Simiology_Laterality</th>\n",
       "      <th>Laterality_ictal_EEG</th>\n",
       "      <th>ictal_Epileptogenic_zone</th>\n",
       "      <th>interictal_irritative_zone</th>\n",
       "      <th>MRI_findings</th>\n",
       "      <th>Hipp_Vol_LI</th>\n",
       "      <th>hippocampal volume</th>\n",
       "      <th>Hipp_FLAIR_LI</th>\n",
       "      <th>FLAIR signal intensity</th>\n",
       "      <th>...</th>\n",
       "      <th>FA cingulum</th>\n",
       "      <th>Fx_LI</th>\n",
       "      <th>FA fornix</th>\n",
       "      <th>Hipp_MD_LI</th>\n",
       "      <th>hippMD</th>\n",
       "      <th>Logistic prediction</th>\n",
       "      <th>Side_ C4.5 Decision Tree</th>\n",
       "      <th>Handedness</th>\n",
       "      <th>gender</th>\n",
       "      <th>Overall_Laterality_NO</th>\n",
       "    </tr>\n",
       "  </thead>\n",
       "  <tbody>\n",
       "    <tr>\n",
       "      <th>0</th>\n",
       "      <td>1</td>\n",
       "      <td>L</td>\n",
       "      <td>L</td>\n",
       "      <td>L</td>\n",
       "      <td>UL</td>\n",
       "      <td>L</td>\n",
       "      <td>-0.050890</td>\n",
       "      <td>UL</td>\n",
       "      <td>-0.212758</td>\n",
       "      <td>L</td>\n",
       "      <td>...</td>\n",
       "      <td>UR</td>\n",
       "      <td>0.0506</td>\n",
       "      <td>R</td>\n",
       "      <td>-0.000163</td>\n",
       "      <td>L</td>\n",
       "      <td>L</td>\n",
       "      <td>L</td>\n",
       "      <td>L</td>\n",
       "      <td>female</td>\n",
       "      <td>0</td>\n",
       "    </tr>\n",
       "    <tr>\n",
       "      <th>1</th>\n",
       "      <td>2</td>\n",
       "      <td>L</td>\n",
       "      <td>L</td>\n",
       "      <td>L</td>\n",
       "      <td>UR</td>\n",
       "      <td>L</td>\n",
       "      <td>-0.084469</td>\n",
       "      <td>L</td>\n",
       "      <td>-0.326595</td>\n",
       "      <td>L</td>\n",
       "      <td>...</td>\n",
       "      <td>L</td>\n",
       "      <td>0.0208</td>\n",
       "      <td>UR</td>\n",
       "      <td>-0.000138</td>\n",
       "      <td>L</td>\n",
       "      <td>L</td>\n",
       "      <td>L</td>\n",
       "      <td>R</td>\n",
       "      <td>female</td>\n",
       "      <td>0</td>\n",
       "    </tr>\n",
       "    <tr>\n",
       "      <th>2</th>\n",
       "      <td>3</td>\n",
       "      <td>U</td>\n",
       "      <td>UL</td>\n",
       "      <td>L</td>\n",
       "      <td>U</td>\n",
       "      <td>UR</td>\n",
       "      <td>-0.000530</td>\n",
       "      <td>U</td>\n",
       "      <td>0.266374</td>\n",
       "      <td>R</td>\n",
       "      <td>...</td>\n",
       "      <td>UL</td>\n",
       "      <td>-0.0379</td>\n",
       "      <td>L</td>\n",
       "      <td>-0.000024</td>\n",
       "      <td>UL</td>\n",
       "      <td>U</td>\n",
       "      <td>L</td>\n",
       "      <td>R</td>\n",
       "      <td>female</td>\n",
       "      <td>0</td>\n",
       "    </tr>\n",
       "    <tr>\n",
       "      <th>3</th>\n",
       "      <td>4</td>\n",
       "      <td>U</td>\n",
       "      <td>UL</td>\n",
       "      <td>L</td>\n",
       "      <td>UL</td>\n",
       "      <td>L</td>\n",
       "      <td>-0.082927</td>\n",
       "      <td>L</td>\n",
       "      <td>-0.524212</td>\n",
       "      <td>L</td>\n",
       "      <td>...</td>\n",
       "      <td>L</td>\n",
       "      <td>-0.0175</td>\n",
       "      <td>UL</td>\n",
       "      <td>-0.000362</td>\n",
       "      <td>L</td>\n",
       "      <td>L</td>\n",
       "      <td>L</td>\n",
       "      <td>R</td>\n",
       "      <td>male</td>\n",
       "      <td>0</td>\n",
       "    </tr>\n",
       "    <tr>\n",
       "      <th>4</th>\n",
       "      <td>5</td>\n",
       "      <td>U</td>\n",
       "      <td>R</td>\n",
       "      <td>R</td>\n",
       "      <td>R</td>\n",
       "      <td>R</td>\n",
       "      <td>-0.007018</td>\n",
       "      <td>U</td>\n",
       "      <td>0.239003</td>\n",
       "      <td>R</td>\n",
       "      <td>...</td>\n",
       "      <td>UL</td>\n",
       "      <td>0.0551</td>\n",
       "      <td>R</td>\n",
       "      <td>0.000176</td>\n",
       "      <td>R</td>\n",
       "      <td>R</td>\n",
       "      <td>R</td>\n",
       "      <td>R</td>\n",
       "      <td>male</td>\n",
       "      <td>1</td>\n",
       "    </tr>\n",
       "  </tbody>\n",
       "</table>\n",
       "<p>5 rows × 21 columns</p>\n",
       "</div>"
      ],
      "text/plain": [
       "   Number seizure_Simiology_Laterality Laterality_ictal_EEG  \\\n",
       "0       1                            L                    L   \n",
       "1       2                            L                    L   \n",
       "2       3                            U                   UL   \n",
       "3       4                            U                   UL   \n",
       "4       5                            U                    R   \n",
       "\n",
       "  ictal_Epileptogenic_zone interictal_irritative_zone MRI_findings  \\\n",
       "0                        L                         UL            L   \n",
       "1                        L                         UR            L   \n",
       "2                        L                          U           UR   \n",
       "3                        L                         UL            L   \n",
       "4                        R                          R            R   \n",
       "\n",
       "   Hipp_Vol_LI hippocampal volume  Hipp_FLAIR_LI FLAIR signal intensity  ...  \\\n",
       "0    -0.050890                 UL      -0.212758                      L  ...   \n",
       "1    -0.084469                  L      -0.326595                      L  ...   \n",
       "2    -0.000530                  U       0.266374                      R  ...   \n",
       "3    -0.082927                  L      -0.524212                      L  ...   \n",
       "4    -0.007018                  U       0.239003                      R  ...   \n",
       "\n",
       "   FA cingulum   Fx_LI  FA fornix  Hipp_MD_LI  hippMD Logistic prediction  \\\n",
       "0           UR  0.0506           R  -0.000163       L                   L   \n",
       "1            L  0.0208          UR  -0.000138       L                   L   \n",
       "2           UL -0.0379           L  -0.000024      UL                   U   \n",
       "3            L -0.0175          UL  -0.000362       L                   L   \n",
       "4           UL  0.0551           R   0.000176       R                   R   \n",
       "\n",
       "  Side_ C4.5 Decision Tree Handedness  gender Overall_Laterality_NO  \n",
       "0                        L          L  female                     0  \n",
       "1                        L          R  female                     0  \n",
       "2                        L          R  female                     0  \n",
       "3                        L          R    male                     0  \n",
       "4                        R          R    male                     1  \n",
       "\n",
       "[5 rows x 21 columns]"
      ]
     },
     "execution_count": 2,
     "metadata": {},
     "output_type": "execute_result"
    }
   ],
   "source": [
    "df = pd.read_csv('./Laterality.csv')\n",
    "\n",
    "df.head(5)"
   ]
  },
  {
   "cell_type": "code",
   "execution_count": 10,
   "metadata": {},
   "outputs": [],
   "source": [
    "y = df['Overall_Laterality_NO']\n",
    "x = pd.get_dummies(df).drop('Overall_Laterality_NO', axis=1).to_numpy()"
   ]
  },
  {
   "cell_type": "code",
   "execution_count": 13,
   "metadata": {},
   "outputs": [
    {
     "data": {
      "text/html": [
       "<style>#sk-container-id-1 {color: black;background-color: white;}#sk-container-id-1 pre{padding: 0;}#sk-container-id-1 div.sk-toggleable {background-color: white;}#sk-container-id-1 label.sk-toggleable__label {cursor: pointer;display: block;width: 100%;margin-bottom: 0;padding: 0.3em;box-sizing: border-box;text-align: center;}#sk-container-id-1 label.sk-toggleable__label-arrow:before {content: \"▸\";float: left;margin-right: 0.25em;color: #696969;}#sk-container-id-1 label.sk-toggleable__label-arrow:hover:before {color: black;}#sk-container-id-1 div.sk-estimator:hover label.sk-toggleable__label-arrow:before {color: black;}#sk-container-id-1 div.sk-toggleable__content {max-height: 0;max-width: 0;overflow: hidden;text-align: left;background-color: #f0f8ff;}#sk-container-id-1 div.sk-toggleable__content pre {margin: 0.2em;color: black;border-radius: 0.25em;background-color: #f0f8ff;}#sk-container-id-1 input.sk-toggleable__control:checked~div.sk-toggleable__content {max-height: 200px;max-width: 100%;overflow: auto;}#sk-container-id-1 input.sk-toggleable__control:checked~label.sk-toggleable__label-arrow:before {content: \"▾\";}#sk-container-id-1 div.sk-estimator input.sk-toggleable__control:checked~label.sk-toggleable__label {background-color: #d4ebff;}#sk-container-id-1 div.sk-label input.sk-toggleable__control:checked~label.sk-toggleable__label {background-color: #d4ebff;}#sk-container-id-1 input.sk-hidden--visually {border: 0;clip: rect(1px 1px 1px 1px);clip: rect(1px, 1px, 1px, 1px);height: 1px;margin: -1px;overflow: hidden;padding: 0;position: absolute;width: 1px;}#sk-container-id-1 div.sk-estimator {font-family: monospace;background-color: #f0f8ff;border: 1px dotted black;border-radius: 0.25em;box-sizing: border-box;margin-bottom: 0.5em;}#sk-container-id-1 div.sk-estimator:hover {background-color: #d4ebff;}#sk-container-id-1 div.sk-parallel-item::after {content: \"\";width: 100%;border-bottom: 1px solid gray;flex-grow: 1;}#sk-container-id-1 div.sk-label:hover label.sk-toggleable__label {background-color: #d4ebff;}#sk-container-id-1 div.sk-serial::before {content: \"\";position: absolute;border-left: 1px solid gray;box-sizing: border-box;top: 0;bottom: 0;left: 50%;z-index: 0;}#sk-container-id-1 div.sk-serial {display: flex;flex-direction: column;align-items: center;background-color: white;padding-right: 0.2em;padding-left: 0.2em;position: relative;}#sk-container-id-1 div.sk-item {position: relative;z-index: 1;}#sk-container-id-1 div.sk-parallel {display: flex;align-items: stretch;justify-content: center;background-color: white;position: relative;}#sk-container-id-1 div.sk-item::before, #sk-container-id-1 div.sk-parallel-item::before {content: \"\";position: absolute;border-left: 1px solid gray;box-sizing: border-box;top: 0;bottom: 0;left: 50%;z-index: -1;}#sk-container-id-1 div.sk-parallel-item {display: flex;flex-direction: column;z-index: 1;position: relative;background-color: white;}#sk-container-id-1 div.sk-parallel-item:first-child::after {align-self: flex-end;width: 50%;}#sk-container-id-1 div.sk-parallel-item:last-child::after {align-self: flex-start;width: 50%;}#sk-container-id-1 div.sk-parallel-item:only-child::after {width: 0;}#sk-container-id-1 div.sk-dashed-wrapped {border: 1px dashed gray;margin: 0 0.4em 0.5em 0.4em;box-sizing: border-box;padding-bottom: 0.4em;background-color: white;}#sk-container-id-1 div.sk-label label {font-family: monospace;font-weight: bold;display: inline-block;line-height: 1.2em;}#sk-container-id-1 div.sk-label-container {text-align: center;}#sk-container-id-1 div.sk-container {/* jupyter's `normalize.less` sets `[hidden] { display: none; }` but bootstrap.min.css set `[hidden] { display: none !important; }` so we also need the `!important` here to be able to override the default hidden behavior on the sphinx rendered scikit-learn.org. See: https://github.com/scikit-learn/scikit-learn/issues/21755 */display: inline-block !important;position: relative;}#sk-container-id-1 div.sk-text-repr-fallback {display: none;}</style><div id=\"sk-container-id-1\" class=\"sk-top-container\"><div class=\"sk-text-repr-fallback\"><pre>AdaBoostClassifier(n_estimators=100)</pre><b>In a Jupyter environment, please rerun this cell to show the HTML representation or trust the notebook. <br />On GitHub, the HTML representation is unable to render, please try loading this page with nbviewer.org.</b></div><div class=\"sk-container\" hidden><div class=\"sk-item\"><div class=\"sk-estimator sk-toggleable\"><input class=\"sk-toggleable__control sk-hidden--visually\" id=\"sk-estimator-id-1\" type=\"checkbox\" checked><label for=\"sk-estimator-id-1\" class=\"sk-toggleable__label sk-toggleable__label-arrow\">AdaBoostClassifier</label><div class=\"sk-toggleable__content\"><pre>AdaBoostClassifier(n_estimators=100)</pre></div></div></div></div></div>"
      ],
      "text/plain": [
       "AdaBoostClassifier(n_estimators=100)"
      ]
     },
     "execution_count": 13,
     "metadata": {},
     "output_type": "execute_result"
    }
   ],
   "source": [
    "clf = AdaBoostClassifier(n_estimators=100)\n",
    "\n",
    "clf.fit(x, y)"
   ]
  },
  {
   "cell_type": "code",
   "execution_count": 28,
   "metadata": {},
   "outputs": [
    {
     "name": "stdout",
     "output_type": "stream",
     "text": [
      "0.9166666666666666\n",
      "0.9166666666666666\n",
      "0.9090909090909091\n",
      "Mean accuracy when doing 3 folds: 91.4141414141414%\n",
      "1.0\n",
      "0.6\n",
      "0.8\n",
      "0.8\n",
      "0.8\n",
      "0.8\n",
      "0.8\n",
      "Mean accuracy when doing 7 folds: 80.0%\n",
      "1.0\n",
      "1.0\n",
      "1.0\n",
      "0.75\n",
      "0.75\n",
      "0.6666666666666666\n",
      "1.0\n",
      "0.6666666666666666\n",
      "1.0\n",
      "1.0\n",
      "Mean accuracy when doing 10 folds: 88.33333333333334%\n"
     ]
    }
   ],
   "source": [
    "from sklearn.model_selection import KFold\n",
    "\n",
    "fold_k = [3, 7, 10]\n",
    "\n",
    "\n",
    "for fold in fold_k:\n",
    "    kf = KFold(n_splits=fold)\n",
    "    acc = 0\n",
    "    for train_idx, test_idx in kf.split(X=x):\n",
    "        clf = AdaBoostClassifier(n_estimators=100)\n",
    "        \n",
    "        clf.fit(x[train_idx], y[train_idx])\n",
    "        acc += clf.score(x[test_idx], y[test_idx])\n",
    "        \n",
    "    print(f\"Mean accuracy when doing {fold} folds: {acc / fold * 100}%\")"
   ]
  },
  {
   "cell_type": "markdown",
   "metadata": {},
   "source": [
    "### Question 2"
   ]
  },
  {
   "cell_type": "code",
   "execution_count": 4,
   "metadata": {},
   "outputs": [],
   "source": [
    "df = pd.read_csv('./COVID_Dataset.csv')\n",
    "\n",
    "df.head(5)\n",
    "\n",
    "y = df['Infection']\n",
    "x = df.drop('Infection', axis=1).to_numpy()"
   ]
  },
  {
   "cell_type": "code",
   "execution_count": 6,
   "metadata": {},
   "outputs": [
    {
     "data": {
      "text/plain": [
       "(80000, 106)"
      ]
     },
     "execution_count": 6,
     "metadata": {},
     "output_type": "execute_result"
    }
   ],
   "source": [
    "x.shape"
   ]
  },
  {
   "cell_type": "code",
   "execution_count": 9,
   "metadata": {},
   "outputs": [],
   "source": [
    "from sklearn.model_selection import train_test_split\n",
    "\n",
    "X_train, X_test, Y_train, Y_test = train_test_split(x, y)"
   ]
  },
  {
   "cell_type": "code",
   "execution_count": 20,
   "metadata": {},
   "outputs": [],
   "source": [
    "adaBoost_clf = AdaBoostClassifier()\n",
    "\n",
    "adaBoost_clf.fit(X_train, Y_train)\n",
    "\n",
    "preds = adaBoost_clf.predict(X_test)"
   ]
  },
  {
   "cell_type": "code",
   "execution_count": 22,
   "metadata": {},
   "outputs": [
    {
     "name": "stdout",
     "output_type": "stream",
     "text": [
      "Accuracy: 0.7525\n",
      "Precision: 0.6939692044482464\n",
      "Rcall: 0.479745712596097\n"
     ]
    },
    {
     "data": {
      "text/plain": [
       "<sklearn.metrics._plot.confusion_matrix.ConfusionMatrixDisplay at 0x107bbd070>"
      ]
     },
     "execution_count": 22,
     "metadata": {},
     "output_type": "execute_result"
    },
    {
     "data": {
      "image/png": "[encoded data removed]",
      "text/plain": [
       "<Figure size 640x480 with 2 Axes>"
      ]
     },
     "metadata": {},
     "output_type": "display_data"
    }
   ],
   "source": [
    "from sklearn.metrics import ConfusionMatrixDisplay, precision_score, recall_score\n",
    "\n",
    "accuracy = accuracy_score(Y_test, preds)\n",
    "precision = precision_score(Y_test, preds)\n",
    "recall = recall_score(Y_test, preds)\n",
    "\n",
    "print(f\"Accuracy: {accuracy}\")\n",
    "print(f\"Precision: {precision}\")\n",
    "print(f\"Rcall: {recall}\")\n",
    "\n",
    "ConfusionMatrixDisplay.from_predictions(Y_test, preds)"
   ]
  },
  {
   "cell_type": "markdown",
   "metadata": {},
   "source": [
    "Because of the low recall we can understand that there are a lot of covid cases that are classifier will not detect. Which is dangerous!"
   ]
  },
  {
   "cell_type": "code",
   "execution_count": 17,
   "metadata": {},
   "outputs": [],
   "source": [
    "from sklearn.tree import DecisionTreeClassifier\n",
    "\n",
    "adaBoost_clf = DecisionTreeClassifier()\n",
    "\n",
    "adaBoost_clf.fit(X_train, Y_train)\n",
    "\n",
    "preds = adaBoost_clf.predict(X_test)"
   ]
  },
  {
   "cell_type": "code",
   "execution_count": 19,
   "metadata": {},
   "outputs": [
    {
     "name": "stdout",
     "output_type": "stream",
     "text": [
      "Accuracy: 0.73415\n",
      "Precision: 0.6072964555835682\n",
      "Rcall: 0.605410999408634\n"
     ]
    },
    {
     "data": {
      "text/plain": [
       "<sklearn.metrics._plot.confusion_matrix.ConfusionMatrixDisplay at 0x17fee5cd0>"
      ]
     },
     "execution_count": 19,
     "metadata": {},
     "output_type": "execute_result"
    },
    {
     "data": {
      "image/png": "[encoded data removed]",
      "text/plain": [
       "<Figure size 640x480 with 2 Axes>"
      ]
     },
     "metadata": {},
     "output_type": "display_data"
    }
   ],
   "source": [
    "from sklearn.metrics import ConfusionMatrixDisplay, precision_score, recall_score, accuracy_score\n",
    "\n",
    "accuracy = accuracy_score(Y_test, preds)\n",
    "precision = precision_score(Y_test, preds)\n",
    "recall = recall_score(Y_test, preds)\n",
    "\n",
    "print(f\"Accuracy: {accuracy}\")\n",
    "print(f\"Precision: {precision}\")\n",
    "print(f\"Rcall: {recall}\")\n",
    "\n",
    "ConfusionMatrixDisplay.from_predictions(Y_test, preds)"
   ]
  },
  {
   "cell_type": "markdown",
   "metadata": {},
   "source": [
    "Higher recall and lower precision means that using this predictor might cost us more because of unnecessary drug costs. But this will come with the benefit of less death."
   ]
  },
  {
   "cell_type": "code",
   "execution_count": 23,
   "metadata": {},
   "outputs": [],
   "source": [
    "from sklearn.neighbors import KNeighborsClassifier\n",
    "\n",
    "k_neighbors_clf = KNeighborsClassifier(n_neighbors=2)\n",
    "\n",
    "k_neighbors_clf.fit(X_train, Y_train)\n",
    "\n",
    "preds = k_neighbors_clf.predict(X_test)"
   ]
  },
  {
   "cell_type": "code",
   "execution_count": null,
   "metadata": {},
   "outputs": [],
   "source": [
    "from sklearn.metrics import ConfusionMatrixDisplay, precision_score, recall_score, accuracy_score\n",
    "\n",
    "accuracy = accuracy_score(Y_test, preds)\n",
    "precision = precision_score(Y_test, preds)\n",
    "recall = recall_score(Y_test, preds)\n",
    "\n",
    "print(f\"Accuracy: {accuracy}\")\n",
    "print(f\"Precision: {precision}\")\n",
    "print(f\"Rcall: {recall}\")\n",
    "\n",
    "ConfusionMatrixDisplay.from_predictions(Y_test, preds)"
   ]
  }
 ],
 "metadata": {
  "kernelspec": {
   "display_name": "Python 3.8.13 ('base')",
   "language": "python",
   "name": "python3"
  },
  "language_info": {
   "codemirror_mode": {
    "name": "ipython",
    "version": 3
   },
   "file_extension": ".py",
   "mimetype": "text/x-python",
   "name": "python",
   "nbconvert_exporter": "python",
   "pygments_lexer": "ipython3",
   "version": "3.8.13"
  },
  "orig_nbformat": 4,
  "vscode": {
   "interpreter": {
    "hash": "3b95d16490139842280b098607a689a5b17538923ac4a6545674048500fbc4d6"
   }
  }
 },
 "nbformat": 4,
 "nbformat_minor": 2
}
